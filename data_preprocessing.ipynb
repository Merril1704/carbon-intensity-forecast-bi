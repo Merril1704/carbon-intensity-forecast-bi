{
 "cells": [
  {
   "cell_type": "markdown",
   "id": "b20aeb8d",
   "metadata": {},
   "source": [
    "Data Loading and basic data exploration"
   ]
  },
  {
   "cell_type": "code",
   "execution_count": 2,
   "id": "cbb29f0a",
   "metadata": {},
   "outputs": [],
   "source": [
    "import pandas as pd\n",
    "import numpy as np \n",
    "import matplotlib.pyplot as plt \n",
    "import seaborn as sns "
   ]
  },
  {
   "cell_type": "code",
   "execution_count": 3,
   "id": "93867223",
   "metadata": {},
   "outputs": [
    {
     "name": "stdout",
     "output_type": "stream",
     "text": [
      "Dataset shape (175320, 11)\n",
      "\n",
      "Column names:\n",
      "['Datetime (UTC)', 'Country', 'Zone name', 'Zone id', 'Carbon intensity gCO₂eq/kWh (direct)', 'Carbon intensity gCO₂eq/kWh (Life cycle)', 'Carbon-free energy percentage (CFE%)', 'Renewable energy percentage (RE%)', 'Data source', 'Data estimated', 'Data estimation method']\n",
      "\n",
      "Data types:\n",
      "Datetime (UTC)                               object\n",
      "Country                                      object\n",
      "Zone name                                    object\n",
      "Zone id                                      object\n",
      "Carbon intensity gCO₂eq/kWh (direct)        float64\n",
      "Carbon intensity gCO₂eq/kWh (Life cycle)    float64\n",
      "Carbon-free energy percentage (CFE%)        float64\n",
      "Renewable energy percentage (RE%)           float64\n",
      "Data source                                  object\n",
      "Data estimated                                 bool\n",
      "Data estimation method                       object\n",
      "dtype: object\n",
      "\n",
      "Missing Values\n",
      "Datetime (UTC)                              0\n",
      "Country                                     0\n",
      "Zone name                                   0\n",
      "Zone id                                     0\n",
      "Carbon intensity gCO₂eq/kWh (direct)        0\n",
      "Carbon intensity gCO₂eq/kWh (Life cycle)    0\n",
      "Carbon-free energy percentage (CFE%)        0\n",
      "Renewable energy percentage (RE%)           0\n",
      "Data source                                 0\n",
      "Data estimated                              0\n",
      "Data estimation method                      0\n",
      "dtype: int64\n",
      "\n",
      "Unique values per column:\n",
      "Datetime (UTC): 35064\n",
      "Country: 1\n",
      "Zone name: 5\n",
      "Zone id: 5\n",
      "Carbon intensity gCO₂eq/kWh (direct): 44222\n",
      "Carbon intensity gCO₂eq/kWh (Life cycle): 44061\n",
      "Carbon-free energy percentage (CFE%): 5621\n",
      "Renewable energy percentage (RE%): 5313\n",
      "Data source: 1\n",
      "Data estimated: 1\n",
      "Data estimation method: 1\n"
     ]
    }
   ],
   "source": [
    "df = pd.read_csv(\"all_regions_combined_data.csv\")\n",
    "\n",
    "## Basic Info  of the data \n",
    "print(\"Dataset shape\",df.shape)\n",
    "print(\"\\nColumn names:\")\n",
    "print(df.columns.tolist())\n",
    "print(\"\\nData types:\")\n",
    "print(df.dtypes)\n",
    "print(\"\\nMissing Values\")\n",
    "print(df.isnull().sum())\n",
    "print(\"\\nUnique values per column:\")\n",
    "for col in df.columns:\n",
    "    print(f\"{col}: {df[col].nunique()}\")\n",
    "    "
   ]
  },
  {
   "cell_type": "markdown",
   "id": "28f26ac6",
   "metadata": {},
   "source": [
    "Data Cleaning "
   ]
  },
  {
   "cell_type": "code",
   "execution_count": 4,
   "id": "83651b9d",
   "metadata": {},
   "outputs": [
    {
     "name": "stdout",
     "output_type": "stream",
     "text": [
      "Missing values after cleaning:\n",
      "Datetime_UTC                              0\n",
      "Country                                   0\n",
      "Zone_name                                 0\n",
      "Zone_id                                   0\n",
      "Carbon_intensity_gCO₂eq_kWh_direct        0\n",
      "Carbon_intensity_gCO₂eq_kWh_Life_cycle    0\n",
      "Carbon-free_energy_percentage_CFE%        0\n",
      "Renewable_energy_percentage_RE%           0\n",
      "Data_source                               0\n",
      "Data_estimated                            0\n",
      "Data_estimation_method                    0\n",
      "dtype: int64\n",
      "\n",
      "Carbon_intensity_gCO₂eq_kWh_direct\n",
      "Outliers: 1 (0.00%)\n",
      "Range: 91.40 to 770.62\n",
      "\n",
      "Carbon_intensity_gCO₂eq_kWh_Life_cycle\n",
      "Outliers: 1 (0.00%)\n",
      "Range: 150.77 to 825.62\n",
      "\n",
      "Carbon-free_energy_percentage_CFE%\n",
      "Outliers: 5078 (2.90%)\n",
      "Range: -24.18 to 49.46\n",
      "\n",
      "Renewable_energy_percentage_RE%\n",
      "Outliers: 8549 (4.88%)\n",
      "Range: -23.36 to 45.22\n"
     ]
    }
   ],
   "source": [
    "# Convert datetime column\n",
    "df['Datetime (UTC)'] = pd.to_datetime(df['Datetime (UTC)'])\n",
    "# Clean column names (remove special characters and spaces)\n",
    "df.columns = df.columns.str.replace(' ', '_').str.replace('(', '').str.replace(')', '').str.replace('/', '_')\n",
    "# Check for and handle missing values\n",
    "print(\"Missing values after cleaning:\")\n",
    "print(df.isnull().sum())\n",
    "\n",
    "# All columns with numerical values \n",
    "numeric_cols = ['Carbon_intensity_gCO₂eq_kWh_direct', 'Carbon_intensity_gCO₂eq_kWh_Life_cycle', \n",
    "                'Carbon-free_energy_percentage_CFE%', 'Renewable_energy_percentage_RE%']\n",
    "# Checking fo rouliers using Inter Quartile range \n",
    "def detect_outliers(df,column):\n",
    "    Q1 = df[column].quantile(0.25)\n",
    "    Q3 = df[column].quantile(0.75)\n",
    "    IQR = Q3 - Q1 \n",
    "    low_bund = Q1 - 1.5 *IQR\n",
    "    upper_bund = Q1 + 1.5 *IQR\n",
    "    outliers = df[(df[column]< low_bund)|(df[column]>upper_bund)]\n",
    "    return outliers,low_bund,upper_bund\n",
    "\n",
    "# To check outliers for each  numerical column \n",
    "for col in numeric_cols :\n",
    "    outliers,lower,upper = detect_outliers(df,col)\n",
    "    print(f\"\\n{col}\") \n",
    "    print(f\"Outliers: {len(outliers)} ({len(outliers)/len(df)*100:.2f}%)\")\n",
    "    print(f\"Range: {lower:.2f} to {upper:.2f}\")"
   ]
  },
  {
   "cell_type": "markdown",
   "id": "937e62c9",
   "metadata": {},
   "source": [
    "Feature Engineering "
   ]
  },
  {
   "cell_type": "code",
   "execution_count": 5,
   "id": "9e3bbfb8",
   "metadata": {},
   "outputs": [],
   "source": [
    "df['Year'] = df['Datetime_UTC'].dt.year\n",
    "df['Month'] = df['Datetime_UTC'].dt.month\n",
    "df['Day'] = df['Datetime_UTC'].dt.day\n",
    "df['Hour'] = df['Datetime_UTC'].dt.hour\n",
    "df['DayOfWeek'] = df['Datetime_UTC'].dt.dayofweek\n",
    "df['WeekOfYear'] = df['Datetime_UTC'].dt.isocalendar().week\n",
    "df['Quarter'] = df['Datetime_UTC'].dt.quarter \n",
    "\n",
    "#Create time-based categories\n",
    "df['Season'] = df['Month'].map({12: 'Winter', 1: 'Winter', 2: 'Winter',\n",
    "                                3: 'Spring', 4: 'Spring', 5: 'Spring',\n",
    "                                6: 'Summer', 7: 'Summer', 8: 'Summer',\n",
    "                                9: 'Autumn', 10: 'Autumn', 11: 'Autumn'})\n",
    "\n",
    "df['TimeOfDay'] = pd.cut(df['Hour'], \n",
    "                        bins=[0, 6, 12, 18, 24], \n",
    "                        labels=['Night', 'Morning', 'Afternoon', 'Evening'])\n",
    "\n",
    "# Create efficiency metrics\n",
    "df['Carbon_Efficiency'] = df['Renewable_energy_percentage_RE%'] / df['Carbon_intensity_gCO₂eq_kWh_direct']\n",
    "df['Clean_Energy_Gap'] = df['Carbon-free_energy_percentage_CFE%'] - df['Renewable_energy_percentage_RE%']\n",
    "\n",
    "# Regional encoding\n",
    "from sklearn.preprocessing import LabelEncoder\n",
    "le = LabelEncoder()\n",
    "df['Zone_encoded'] = le.fit_transform(df['Zone_name'])\n",
    "\n",
    "# Create moving averages for trend analysis\n",
    "df = df.sort_values(['Zone_name', 'Datetime_UTC'])\n",
    "df['Carbon_Intensity_MA_24h'] = df.groupby('Zone_name')['Carbon_intensity_gCO₂eq_kWh_direct'].rolling(window=24, min_periods=1).mean().reset_index(0, drop=True)\n",
    "df['RE_Percentage_MA_24h'] = df.groupby('Zone_name')['Renewable_energy_percentage_RE%'].rolling(window=24, min_periods=1).mean().reset_index(0, drop=True)"
   ]
  },
  {
   "cell_type": "markdown",
   "id": "653ee91e",
   "metadata": {},
   "source": [
    "Data Normalization"
   ]
  },
  {
   "cell_type": "code",
   "execution_count": 6,
   "id": "ede0256b",
   "metadata": {},
   "outputs": [
    {
     "data": {
      "text/plain": [
       "['minmax_scaler.pkl']"
      ]
     },
     "execution_count": 6,
     "metadata": {},
     "output_type": "execute_result"
    }
   ],
   "source": [
    "from sklearn.preprocessing import StandardScaler, MinMaxScaler\n",
    "\n",
    "# Identify numerical columns for scaling\n",
    "numerical_cols = df.select_dtypes(include=[np.number]).columns.tolist()\n",
    "# Remove ID-like columns\n",
    "numerical_cols = [col for col in numerical_cols if col not in ['Year', 'Month', 'Day', 'Hour', 'Zone_encoded']]\n",
    "\n",
    "# Option 1: StandardScaler (mean=0, std=1)\n",
    "scaler_standard = StandardScaler()\n",
    "df_scaled_standard = df.copy()\n",
    "df_scaled_standard[numerical_cols] = scaler_standard.fit_transform(df[numerical_cols])\n",
    "\n",
    "# Option 2: MinMaxScaler (range 0-1)\n",
    "scaler_minmax = MinMaxScaler()\n",
    "df_scaled_minmax = df.copy()\n",
    "df_scaled_minmax[numerical_cols] = scaler_minmax.fit_transform(df[numerical_cols])\n",
    "\n",
    "# Save scalers for future use\n",
    "import joblib\n",
    "joblib.dump(scaler_standard, 'standard_scaler.pkl')\n",
    "joblib.dump(scaler_minmax, 'minmax_scaler.pkl')"
   ]
  },
  {
   "cell_type": "code",
   "execution_count": 7,
   "id": "07b2f478",
   "metadata": {},
   "outputs": [
    {
     "name": "stdout",
     "output_type": "stream",
     "text": [
      "Preprocessed data saved as 'processed_data.csv'\n",
      "Shape: (175320, 25)\n",
      "Columns: 25\n",
      "Preprocessing info saved as 'preprocessing_info.json'\n"
     ]
    }
   ],
   "source": [
    "# Save the preprocessed data to CSV file\n",
    "# Use the standard scaled version (or df_scaled_minmax if you prefer MinMax scaling)\n",
    "df_scaled_standard.to_csv('processed_data.csv', index=False)\n",
    "\n",
    "print(\"Preprocessed data saved as 'processed_data.csv'\")\n",
    "print(f\"Shape: {df_scaled_standard.shape}\")\n",
    "print(f\"Columns: {len(df_scaled_standard.columns)}\")\n",
    "\n",
    "# Also save some metadata about the preprocessing\n",
    "preprocessing_info = {\n",
    "    'original_shape': df.shape,\n",
    "    'processed_shape': df_scaled_standard.shape,\n",
    "    'numerical_columns_scaled': numerical_cols,\n",
    "    'scaler_used': 'StandardScaler',\n",
    "    'target_column': 'Carbon_intensity_gCO₂eq_kWh_direct',\n",
    "    'datetime_column': 'Datetime_UTC'\n",
    "}\n",
    "\n",
    "import json\n",
    "with open('preprocessing_info.json', 'w') as f:\n",
    "    json.dump(preprocessing_info, f, indent=2, default=str)\n",
    "\n",
    "print(\"Preprocessing info saved as 'preprocessing_info.json'\")"
   ]
  }
 ],
 "metadata": {
  "kernelspec": {
   "display_name": "basic",
   "language": "python",
   "name": "python3"
  },
  "language_info": {
   "codemirror_mode": {
    "name": "ipython",
    "version": 3
   },
   "file_extension": ".py",
   "mimetype": "text/x-python",
   "name": "python",
   "nbconvert_exporter": "python",
   "pygments_lexer": "ipython3",
   "version": "3.11.13"
  }
 },
 "nbformat": 4,
 "nbformat_minor": 5
}
