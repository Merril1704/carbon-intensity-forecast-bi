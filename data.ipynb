{
 "cells": [
  {
   "cell_type": "markdown",
   "id": "2f44f6ab",
   "metadata": {},
   "source": [
    "This is the file to aggregate all the data according to our needs "
   ]
  },
  {
   "cell_type": "code",
   "execution_count": 2,
   "id": "96144ae1",
   "metadata": {},
   "outputs": [],
   "source": [
    "import pandas as pd \n",
    "import os \n",
    "import glob \n"
   ]
  },
  {
   "cell_type": "markdown",
   "id": "ede1c8b1",
   "metadata": {},
   "source": [
    "All Datasets path "
   ]
  },
  {
   "cell_type": "code",
   "execution_count": 3,
   "id": "831c9f76",
   "metadata": {},
   "outputs": [],
   "source": [
    "eastern_path = \"BI DATA/Eastern\"\n",
    "north_east_path = \"BI DATA/North_eastern\"\n",
    "north_path = \"BI DATA/Northern\"\n",
    "south_path = \"BI DATA/Southern\"\n",
    "western_path = \"BI DATA/Western\" \n",
    "paths = [eastern_path,north_east_path,north_path,south_path,western_path]"
   ]
  },
  {
   "cell_type": "markdown",
   "id": "b9bf7270",
   "metadata": {},
   "source": [
    "main loop to access all the csv files and access it "
   ]
  },
  {
   "cell_type": "code",
   "execution_count": 4,
   "id": "eea7cdfb",
   "metadata": {},
   "outputs": [],
   "source": [
    "all_data = []\n",
    "for folder_path in paths:\n",
    "    csv_files = glob.glob(os.path.join(folder_path,\"*.csv\")) \n",
    "    \n",
    "    for files in csv_files:\n",
    "        df = pd.read_csv(files)\n",
    "        all_data.append(df)"
   ]
  },
  {
   "cell_type": "markdown",
   "id": "d6cd3e8b",
   "metadata": {},
   "source": [
    "Combining all the data into one file "
   ]
  },
  {
   "cell_type": "code",
   "execution_count": 5,
   "id": "9c524cb1",
   "metadata": {},
   "outputs": [],
   "source": [
    "combined_df = pd.concat(all_data, ignore_index=True) \n",
    "combined_df.to_csv(\"all_regions_combined_data.csv\",index=False)"
   ]
  },
  {
   "cell_type": "markdown",
   "id": "6adb09a2",
   "metadata": {},
   "source": [
    "Just a basic summary of what the data has and what its fetched from "
   ]
  },
  {
   "cell_type": "code",
   "execution_count": 6,
   "id": "8bde4575",
   "metadata": {},
   "outputs": [
    {
     "name": "stdout",
     "output_type": "stream",
     "text": [
      "Total csv files processed: 20\n",
      "Total rows in the combined data: 175320\n"
     ]
    }
   ],
   "source": [
    "print(f\"Total csv files processed: {len(all_data)}\")\n",
    "print(f\"Total rows in the combined data: {len(combined_df)}\")"
   ]
  }
 ],
 "metadata": {
  "kernelspec": {
   "display_name": "basic",
   "language": "python",
   "name": "python3"
  },
  "language_info": {
   "codemirror_mode": {
    "name": "ipython",
    "version": 3
   },
   "file_extension": ".py",
   "mimetype": "text/x-python",
   "name": "python",
   "nbconvert_exporter": "python",
   "pygments_lexer": "ipython3",
   "version": "3.11.13"
  }
 },
 "nbformat": 4,
 "nbformat_minor": 5
}
